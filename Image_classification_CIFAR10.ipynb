{
  "nbformat": 4,
  "nbformat_minor": 0,
  "metadata": {
    "colab": {
      "provenance": []
    },
    "kernelspec": {
      "name": "python3",
      "display_name": "Python 3"
    },
    "language_info": {
      "name": "python"
    }
  },
  "cells": [
    {
      "cell_type": "code",
      "execution_count": 2,
      "metadata": {
        "id": "RE2r5cgfoQua"
      },
      "outputs": [],
      "source": [
        "import pandas as pd\n",
        "import numpy as np\n",
        "import matplotlib.pyplot as plt\n",
        "import tensorflow as tf\n",
        "from tensorflow.keras import layers, models, datasets"
      ]
    },
    {
      "cell_type": "code",
      "source": [
        "(X_train, y_train), (X_test, y_test) = datasets.cifar10.load_data()"
      ],
      "metadata": {
        "id": "uFXEd4KeoZuN"
      },
      "execution_count": 74,
      "outputs": []
    },
    {
      "cell_type": "code",
      "source": [
        "X_train.shape\n",
        "# 50,000 is training sample, 32 x 32 image, 3 is for RGB channels"
      ],
      "metadata": {
        "colab": {
          "base_uri": "https://localhost:8080/"
        },
        "id": "qU-7sDqvo61m",
        "outputId": "a9028bd8-23f4-4bf8-8040-018b98f070ff"
      },
      "execution_count": 8,
      "outputs": [
        {
          "output_type": "execute_result",
          "data": {
            "text/plain": [
              "(50000, 32, 32, 3)"
            ]
          },
          "metadata": {},
          "execution_count": 8
        }
      ]
    },
    {
      "cell_type": "code",
      "source": [
        "X_test.shape\n",
        "# 10,000 is training sample, 32 x 32 image, 3 is for RGB channels"
      ],
      "metadata": {
        "colab": {
          "base_uri": "https://localhost:8080/"
        },
        "id": "MbyIiA64rz8R",
        "outputId": "39f787d6-4f1e-4363-a222-de37199f962e"
      },
      "execution_count": 10,
      "outputs": [
        {
          "output_type": "execute_result",
          "data": {
            "text/plain": [
              "(10000, 32, 32, 3)"
            ]
          },
          "metadata": {},
          "execution_count": 10
        }
      ]
    },
    {
      "cell_type": "code",
      "source": [
        "# Checking for the first data set(i.e first image which is divided into 3 d array)\n",
        "X_train[0]"
      ],
      "metadata": {
        "colab": {
          "base_uri": "https://localhost:8080/",
          "height": 72
        },
        "id": "7U_DjyKAtb3O",
        "outputId": "2a107f35-f2af-4e4d-872a-a753346c038f"
      },
      "execution_count": 17,
      "outputs": [
        {
          "output_type": "execute_result",
          "data": {
            "text/plain": [
              "array([[[ 59,  62,  63],\n",
              "        [ 43,  46,  45],\n",
              "        [ 50,  48,  43],\n",
              "        ...,\n",
              "        [158, 132, 108],\n",
              "        [152, 125, 102],\n",
              "        [148, 124, 103]],\n",
              "\n",
              "       [[ 16,  20,  20],\n",
              "        [  0,   0,   0],\n",
              "        [ 18,   8,   0],\n",
              "        ...,\n",
              "        [123,  88,  55],\n",
              "        [119,  83,  50],\n",
              "        [122,  87,  57]],\n",
              "\n",
              "       [[ 25,  24,  21],\n",
              "        [ 16,   7,   0],\n",
              "        [ 49,  27,   8],\n",
              "        ...,\n",
              "        [118,  84,  50],\n",
              "        [120,  84,  50],\n",
              "        [109,  73,  42]],\n",
              "\n",
              "       ...,\n",
              "\n",
              "       [[208, 170,  96],\n",
              "        [201, 153,  34],\n",
              "        [198, 161,  26],\n",
              "        ...,\n",
              "        [160, 133,  70],\n",
              "        [ 56,  31,   7],\n",
              "        [ 53,  34,  20]],\n",
              "\n",
              "       [[180, 139,  96],\n",
              "        [173, 123,  42],\n",
              "        [186, 144,  30],\n",
              "        ...,\n",
              "        [184, 148,  94],\n",
              "        [ 97,  62,  34],\n",
              "        [ 83,  53,  34]],\n",
              "\n",
              "       [[177, 144, 116],\n",
              "        [168, 129,  94],\n",
              "        [179, 142,  87],\n",
              "        ...,\n",
              "        [216, 184, 140],\n",
              "        [151, 118,  84],\n",
              "        [123,  92,  72]]], dtype=uint8)"
            ],
            "text/html": [
              "<style>\n",
              "      .ndarray_repr .ndarray_raw_data {\n",
              "        display: none;\n",
              "      }\n",
              "      .ndarray_repr.show_array .ndarray_raw_data {\n",
              "        display: block;\n",
              "      }\n",
              "      .ndarray_repr.show_array .ndarray_image_preview {\n",
              "        display: none;\n",
              "      }\n",
              "      </style>\n",
              "      <div id=\"id-2ff176b4-466f-4374-8850-642da9a21783\" class=\"ndarray_repr\"><pre>ndarray (32, 32, 3) <button style=\"padding: 0 2px;\">show data</button></pre><img src=\"data:image/png;base64,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\" class=\"ndarray_image_preview\" /><pre class=\"ndarray_raw_data\">array([[[ 59,  62,  63],\n",
              "        [ 43,  46,  45],\n",
              "        [ 50,  48,  43],\n",
              "        ...,\n",
              "        [158, 132, 108],\n",
              "        [152, 125, 102],\n",
              "        [148, 124, 103]],\n",
              "\n",
              "       [[ 16,  20,  20],\n",
              "        [  0,   0,   0],\n",
              "        [ 18,   8,   0],\n",
              "        ...,\n",
              "        [123,  88,  55],\n",
              "        [119,  83,  50],\n",
              "        [122,  87,  57]],\n",
              "\n",
              "       [[ 25,  24,  21],\n",
              "        [ 16,   7,   0],\n",
              "        [ 49,  27,   8],\n",
              "        ...,\n",
              "        [118,  84,  50],\n",
              "        [120,  84,  50],\n",
              "        [109,  73,  42]],\n",
              "\n",
              "       ...,\n",
              "\n",
              "       [[208, 170,  96],\n",
              "        [201, 153,  34],\n",
              "        [198, 161,  26],\n",
              "        ...,\n",
              "        [160, 133,  70],\n",
              "        [ 56,  31,   7],\n",
              "        [ 53,  34,  20]],\n",
              "\n",
              "       [[180, 139,  96],\n",
              "        [173, 123,  42],\n",
              "        [186, 144,  30],\n",
              "        ...,\n",
              "        [184, 148,  94],\n",
              "        [ 97,  62,  34],\n",
              "        [ 83,  53,  34]],\n",
              "\n",
              "       [[177, 144, 116],\n",
              "        [168, 129,  94],\n",
              "        [179, 142,  87],\n",
              "        ...,\n",
              "        [216, 184, 140],\n",
              "        [151, 118,  84],\n",
              "        [123,  92,  72]]], dtype=uint8)</pre></div><script>\n",
              "      (() => {\n",
              "      const titles = ['show data', 'hide data'];\n",
              "      let index = 0\n",
              "      document.querySelector('#id-2ff176b4-466f-4374-8850-642da9a21783 button').onclick = (e) => {\n",
              "        document.querySelector('#id-2ff176b4-466f-4374-8850-642da9a21783').classList.toggle('show_array');\n",
              "        index = (++index) % 2;\n",
              "        document.querySelector('#id-2ff176b4-466f-4374-8850-642da9a21783 button').textContent = titles[index];\n",
              "        e.preventDefault();\n",
              "        e.stopPropagation();\n",
              "      }\n",
              "      })();\n",
              "    </script>"
            ]
          },
          "metadata": {},
          "execution_count": 17
        }
      ]
    },
    {
      "cell_type": "code",
      "source": [
        "X_test[1]"
      ],
      "metadata": {
        "colab": {
          "base_uri": "https://localhost:8080/",
          "height": 72
        },
        "id": "e6Sp-xoPExN1",
        "outputId": "4da8dc42-2f4d-424c-b301-f8524a4915c4"
      },
      "execution_count": 72,
      "outputs": [
        {
          "output_type": "execute_result",
          "data": {
            "text/plain": [
              "array([[[235, 235, 235],\n",
              "        [231, 231, 231],\n",
              "        [232, 232, 232],\n",
              "        ...,\n",
              "        [233, 233, 233],\n",
              "        [233, 233, 233],\n",
              "        [232, 232, 232]],\n",
              "\n",
              "       [[238, 238, 238],\n",
              "        [235, 235, 235],\n",
              "        [235, 235, 235],\n",
              "        ...,\n",
              "        [236, 236, 236],\n",
              "        [236, 236, 236],\n",
              "        [235, 235, 235]],\n",
              "\n",
              "       [[237, 237, 237],\n",
              "        [234, 234, 234],\n",
              "        [234, 234, 234],\n",
              "        ...,\n",
              "        [235, 235, 235],\n",
              "        [235, 235, 235],\n",
              "        [234, 234, 234]],\n",
              "\n",
              "       ...,\n",
              "\n",
              "       [[ 87,  99,  89],\n",
              "        [ 43,  51,  37],\n",
              "        [ 19,  23,  11],\n",
              "        ...,\n",
              "        [169, 184, 179],\n",
              "        [182, 197, 193],\n",
              "        [188, 202, 201]],\n",
              "\n",
              "       [[ 82,  96,  82],\n",
              "        [ 46,  57,  36],\n",
              "        [ 36,  44,  22],\n",
              "        ...,\n",
              "        [174, 189, 183],\n",
              "        [185, 200, 196],\n",
              "        [187, 202, 200]],\n",
              "\n",
              "       [[ 85, 101,  83],\n",
              "        [ 62,  75,  48],\n",
              "        [ 58,  67,  38],\n",
              "        ...,\n",
              "        [168, 183, 178],\n",
              "        [180, 195, 191],\n",
              "        [186, 200, 199]]], dtype=uint8)"
            ],
            "text/html": [
              "<style>\n",
              "      .ndarray_repr .ndarray_raw_data {\n",
              "        display: none;\n",
              "      }\n",
              "      .ndarray_repr.show_array .ndarray_raw_data {\n",
              "        display: block;\n",
              "      }\n",
              "      .ndarray_repr.show_array .ndarray_image_preview {\n",
              "        display: none;\n",
              "      }\n",
              "      </style>\n",
              "      <div id=\"id-b9af9589-fa54-46a8-a7dc-eadee4faa998\" class=\"ndarray_repr\"><pre>ndarray (32, 32, 3) <button style=\"padding: 0 2px;\">show data</button></pre><img src=\"data:image/png;base64,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\" class=\"ndarray_image_preview\" /><pre class=\"ndarray_raw_data\">array([[[235, 235, 235],\n",
              "        [231, 231, 231],\n",
              "        [232, 232, 232],\n",
              "        ...,\n",
              "        [233, 233, 233],\n",
              "        [233, 233, 233],\n",
              "        [232, 232, 232]],\n",
              "\n",
              "       [[238, 238, 238],\n",
              "        [235, 235, 235],\n",
              "        [235, 235, 235],\n",
              "        ...,\n",
              "        [236, 236, 236],\n",
              "        [236, 236, 236],\n",
              "        [235, 235, 235]],\n",
              "\n",
              "       [[237, 237, 237],\n",
              "        [234, 234, 234],\n",
              "        [234, 234, 234],\n",
              "        ...,\n",
              "        [235, 235, 235],\n",
              "        [235, 235, 235],\n",
              "        [234, 234, 234]],\n",
              "\n",
              "       ...,\n",
              "\n",
              "       [[ 87,  99,  89],\n",
              "        [ 43,  51,  37],\n",
              "        [ 19,  23,  11],\n",
              "        ...,\n",
              "        [169, 184, 179],\n",
              "        [182, 197, 193],\n",
              "        [188, 202, 201]],\n",
              "\n",
              "       [[ 82,  96,  82],\n",
              "        [ 46,  57,  36],\n",
              "        [ 36,  44,  22],\n",
              "        ...,\n",
              "        [174, 189, 183],\n",
              "        [185, 200, 196],\n",
              "        [187, 202, 200]],\n",
              "\n",
              "       [[ 85, 101,  83],\n",
              "        [ 62,  75,  48],\n",
              "        [ 58,  67,  38],\n",
              "        ...,\n",
              "        [168, 183, 178],\n",
              "        [180, 195, 191],\n",
              "        [186, 200, 199]]], dtype=uint8)</pre></div><script>\n",
              "      (() => {\n",
              "      const titles = ['show data', 'hide data'];\n",
              "      let index = 0\n",
              "      document.querySelector('#id-b9af9589-fa54-46a8-a7dc-eadee4faa998 button').onclick = (e) => {\n",
              "        document.querySelector('#id-b9af9589-fa54-46a8-a7dc-eadee4faa998').classList.toggle('show_array');\n",
              "        index = (++index) % 2;\n",
              "        document.querySelector('#id-b9af9589-fa54-46a8-a7dc-eadee4faa998 button').textContent = titles[index];\n",
              "        e.preventDefault();\n",
              "        e.stopPropagation();\n",
              "      }\n",
              "      })();\n",
              "    </script>"
            ]
          },
          "metadata": {},
          "execution_count": 72
        }
      ]
    },
    {
      "cell_type": "code",
      "source": [
        "y_test"
      ],
      "metadata": {
        "colab": {
          "base_uri": "https://localhost:8080/"
        },
        "id": "nHsNfERPF20v",
        "outputId": "82c1ecfa-3ef5-4a74-eb74-9ceb19d71bff"
      },
      "execution_count": 75,
      "outputs": [
        {
          "output_type": "execute_result",
          "data": {
            "text/plain": [
              "array([[3],\n",
              "       [8],\n",
              "       [8],\n",
              "       ...,\n",
              "       [5],\n",
              "       [1],\n",
              "       [7]], dtype=uint8)"
            ]
          },
          "metadata": {},
          "execution_count": 75
        }
      ]
    },
    {
      "cell_type": "code",
      "source": [
        "y_train.shape\n",
        "# 50,000 lable and 1 coz it is a 2-d array\n",
        "# we can convert it into a 1-d array"
      ],
      "metadata": {
        "colab": {
          "base_uri": "https://localhost:8080/"
        },
        "id": "1lDA0MV0wgrU",
        "outputId": "abcaf1ba-c18a-4151-a58f-752c5cbdba69"
      },
      "execution_count": 29,
      "outputs": [
        {
          "output_type": "execute_result",
          "data": {
            "text/plain": [
              "(50000, 1)"
            ]
          },
          "metadata": {},
          "execution_count": 29
        }
      ]
    },
    {
      "cell_type": "code",
      "source": [
        "# we make it in a 01-d array\n",
        "Y_train = y_train.reshape(-1,)\n",
        "Y_train[:5]\n",
        "Y_test = y_test.reshape(-1,)\n",
        "Y_test[:5]"
      ],
      "metadata": {
        "colab": {
          "base_uri": "https://localhost:8080/"
        },
        "id": "X1Iz7fuwxFbL",
        "outputId": "983a013d-ba0e-4b90-a77f-d8792e78d865"
      },
      "execution_count": 76,
      "outputs": [
        {
          "output_type": "execute_result",
          "data": {
            "text/plain": [
              "array([3, 8, 8, 0, 6], dtype=uint8)"
            ]
          },
          "metadata": {},
          "execution_count": 76
        }
      ]
    },
    {
      "cell_type": "code",
      "source": [
        "# the y lable is in 0-9 formate, so we make a list of signifecent lable to ue it further.\n",
        "classes = [\"airplane\",\"automobile\", \"bird\t\", \"cat\t\",\"deer\",\"dog\",\"frog\",\"horse\",\"ship\",\"truck\"]"
      ],
      "metadata": {
        "id": "SqmvrOhYv1z7"
      },
      "execution_count": 28,
      "outputs": []
    },
    {
      "cell_type": "code",
      "source": [
        "classes[9]"
      ],
      "metadata": {
        "colab": {
          "base_uri": "https://localhost:8080/",
          "height": 35
        },
        "id": "NZYR4Nt4xpnS",
        "outputId": "28c61cd3-7f3c-4155-f442-106170d5ae6a"
      },
      "execution_count": 33,
      "outputs": [
        {
          "output_type": "execute_result",
          "data": {
            "text/plain": [
              "'truck'"
            ],
            "application/vnd.google.colaboratory.intrinsic+json": {
              "type": "string"
            }
          },
          "metadata": {},
          "execution_count": 33
        }
      ]
    },
    {
      "cell_type": "code",
      "source": [
        "def plot_sample(X,y, index):\n",
        "  plt.figure(figsize = (15,2))\n",
        "  plt.imshow(X[index])\n",
        "  plt.xlabel(classes[y[index]])"
      ],
      "metadata": {
        "id": "5tZRcc03uK3_"
      },
      "execution_count": 78,
      "outputs": []
    },
    {
      "cell_type": "code",
      "source": [
        "plot_sample(X_train,y_train,0)"
      ],
      "metadata": {
        "colab": {
          "base_uri": "https://localhost:8080/",
          "height": 237
        },
        "id": "KOufqgzIxmKU",
        "outputId": "fb4517e4-b061-4749-f440-32d76ebfa394"
      },
      "execution_count": 38,
      "outputs": [
        {
          "output_type": "display_data",
          "data": {
            "text/plain": [
              "<Figure size 1500x200 with 1 Axes>"
            ],
            "image/png": "[encoded data removed]"
          },
          "metadata": {}
        }
      ]
    },
    {
      "cell_type": "markdown",
      "source": [
        "**Starting the Neural network process.**"
      ],
      "metadata": {
        "id": "MchfM-NUzIhL"
      }
    },
    {
      "cell_type": "code",
      "source": [
        "# We will start with normalizing the pixel values.\n",
        "# Max pixel value for each color is 255 so we divide by 255 to get a continius range from 0 to 1\n",
        "# since data is already in 32X32 formate so we do not re size it.\n",
        "\n",
        "X_train = X_train[0]/255\n",
        "X_test = X_test[0]/255"
      ],
      "metadata": {
        "id": "Y5R1g-A9u0u5"
      },
      "execution_count": 40,
      "outputs": []
    },
    {
      "cell_type": "markdown",
      "source": [
        "model_01 : Basic artficial Neural Network"
      ],
      "metadata": {
        "id": "1xZ9mK5D0UrS"
      }
    },
    {
      "cell_type": "code",
      "source": [
        "# Creating a dense model\n",
        "model_01 = tf.keras.Sequential([\n",
        "    #converting into a single d array.\n",
        "    tf.keras.layers.Flatten(input_shape=(32,32,3)),\n",
        "    tf.keras.layers.Dense(3000,activation='relu'),\n",
        "    tf.keras.layers.Dense(1000,activation='relu'),\n",
        "    tf.keras.layers.Dense(10,activation='sigmoid'),\n",
        "])\n",
        "\n",
        "# compilation of the data using gradient descent\n",
        "\n",
        "model_01.compile(optimizer='SGD',\n",
        "    loss ='sparse_categorical_crossentropy',\n",
        "    metrics =['accuracy']\n",
        ")\n",
        "\n",
        "# fit/ backward propogation, train data testing\n",
        "\n",
        "model_01.fit(X_train, y_train, epochs=5)"
      ],
      "metadata": {
        "colab": {
          "base_uri": "https://localhost:8080/"
        },
        "id": "LuNh8UHPz5gJ",
        "outputId": "2f49eb45-56f6-4591-fead-76bcafa2d484"
      },
      "execution_count": 46,
      "outputs": [
        {
          "output_type": "stream",
          "name": "stdout",
          "text": [
            "Epoch 1/5\n",
            "1563/1563 [==============================] - 144s 91ms/step - loss: nan - accuracy: 0.0999\n",
            "Epoch 2/5\n",
            "1563/1563 [==============================] - 142s 91ms/step - loss: nan - accuracy: 0.1000\n",
            "Epoch 3/5\n",
            "1563/1563 [==============================] - 138s 88ms/step - loss: nan - accuracy: 0.1000\n",
            "Epoch 4/5\n",
            "1563/1563 [==============================] - 136s 87ms/step - loss: nan - accuracy: 0.1000\n",
            "Epoch 5/5\n",
            "1563/1563 [==============================] - 137s 88ms/step - loss: nan - accuracy: 0.1000\n"
          ]
        },
        {
          "output_type": "execute_result",
          "data": {
            "text/plain": [
              "<keras.src.callbacks.History at 0x7ac87ddf5cf0>"
            ]
          },
          "metadata": {},
          "execution_count": 46
        }
      ]
    },
    {
      "cell_type": "code",
      "source": [
        "model_01.evaluate(X_test,y_test)"
      ],
      "metadata": {
        "colab": {
          "base_uri": "https://localhost:8080/"
        },
        "id": "DCLLLyfm0aRD",
        "outputId": "ab962d49-a199-447b-9022-9b14c8715fec"
      },
      "execution_count": 47,
      "outputs": [
        {
          "output_type": "stream",
          "name": "stdout",
          "text": [
            "313/313 [==============================] - 9s 28ms/step - loss: nan - accuracy: 0.1000\n"
          ]
        },
        {
          "output_type": "execute_result",
          "data": {
            "text/plain": [
              "[nan, 0.10000000149011612]"
            ]
          },
          "metadata": {},
          "execution_count": 47
        }
      ]
    },
    {
      "cell_type": "markdown",
      "source": [
        "model_02 : CNN Model"
      ],
      "metadata": {
        "id": "Ijr2xYou9Hf1"
      }
    },
    {
      "cell_type": "code",
      "source": [
        "# Creating a CNN model\n",
        "model_02 = tf.keras.Sequential([\n",
        "    #cnn\n",
        "    tf.keras.layers.Conv2D(filters = 32, kernel_size = (3, 3), activation='relu', input_shape=(32, 32, 3)),\n",
        "    tf.keras.layers.MaxPooling2D(2,2),\n",
        "    tf.keras.layers.Conv2D(filters = 64, kernel_size = (3, 3), activation='relu', input_shape=(32, 32, 3)),\n",
        "    tf.keras.layers.MaxPooling2D(2,2),\n",
        "\n",
        "    #Dense\n",
        "    tf.keras.layers.Flatten(),\n",
        "    tf.keras.layers.Dense(64,activation='relu'),\n",
        "    tf.keras.layers.Dense(10,activation='softmax'),\n",
        "])\n"
      ],
      "metadata": {
        "id": "6JU9bD6y9HKm"
      },
      "execution_count": 50,
      "outputs": []
    },
    {
      "cell_type": "code",
      "source": [
        " # compilation of the data using gradient descent\n",
        "\n",
        "model_02.compile(optimizer='adam',\n",
        "                 loss ='sparse_categorical_crossentropy',\n",
        "                 metrics =['accuracy']\n",
        ")"
      ],
      "metadata": {
        "id": "h2o5cadG30a3"
      },
      "execution_count": 51,
      "outputs": []
    },
    {
      "cell_type": "code",
      "source": [
        "# fit/ backward propogation, train data testing\n",
        "\n",
        "model_02.fit(X_train, y_train, epochs=10,validation_data=(X_test, y_test))"
      ],
      "metadata": {
        "colab": {
          "base_uri": "https://localhost:8080/"
        },
        "id": "Yv5_V2jKAXoE",
        "outputId": "c157101e-d74d-4e7b-9260-06f784247bae"
      },
      "execution_count": 52,
      "outputs": [
        {
          "output_type": "stream",
          "name": "stdout",
          "text": [
            "Epoch 1/10\n",
            "1563/1563 [==============================] - 61s 38ms/step - loss: 2.4415 - accuracy: 0.1871 - val_loss: 1.8123 - val_accuracy: 0.3318\n",
            "Epoch 2/10\n",
            "1563/1563 [==============================] - 61s 39ms/step - loss: 1.6221 - accuracy: 0.4147 - val_loss: 1.4211 - val_accuracy: 0.4874\n",
            "Epoch 3/10\n",
            "1563/1563 [==============================] - 61s 39ms/step - loss: 1.3202 - accuracy: 0.5298 - val_loss: 1.3162 - val_accuracy: 0.5384\n",
            "Epoch 4/10\n",
            "1563/1563 [==============================] - 61s 39ms/step - loss: 1.1763 - accuracy: 0.5877 - val_loss: 1.2013 - val_accuracy: 0.5704\n",
            "Epoch 5/10\n",
            "1563/1563 [==============================] - 60s 38ms/step - loss: 1.0677 - accuracy: 0.6284 - val_loss: 1.0954 - val_accuracy: 0.6189\n",
            "Epoch 6/10\n",
            "1563/1563 [==============================] - 59s 38ms/step - loss: 0.9859 - accuracy: 0.6573 - val_loss: 1.0612 - val_accuracy: 0.6384\n",
            "Epoch 7/10\n",
            "1563/1563 [==============================] - 60s 38ms/step - loss: 0.9124 - accuracy: 0.6819 - val_loss: 1.0953 - val_accuracy: 0.6361\n",
            "Epoch 8/10\n",
            "1563/1563 [==============================] - 60s 38ms/step - loss: 0.8604 - accuracy: 0.7010 - val_loss: 1.0664 - val_accuracy: 0.6415\n",
            "Epoch 9/10\n",
            "1563/1563 [==============================] - 58s 37ms/step - loss: 0.8216 - accuracy: 0.7141 - val_loss: 1.0668 - val_accuracy: 0.6469\n",
            "Epoch 10/10\n",
            "1563/1563 [==============================] - 59s 38ms/step - loss: 0.7698 - accuracy: 0.7335 - val_loss: 1.0821 - val_accuracy: 0.6536\n"
          ]
        },
        {
          "output_type": "execute_result",
          "data": {
            "text/plain": [
              "<keras.src.callbacks.History at 0x7ac877c650c0>"
            ]
          },
          "metadata": {},
          "execution_count": 52
        }
      ]
    },
    {
      "cell_type": "code",
      "source": [
        "plot_sample(X_test,Y_test,1)"
      ],
      "metadata": {
        "colab": {
          "base_uri": "https://localhost:8080/",
          "height": 237
        },
        "id": "PY3CikykD29s",
        "outputId": "5d49b75c-22bb-45b7-c7c1-f0cbaead6a15"
      },
      "execution_count": 79,
      "outputs": [
        {
          "output_type": "display_data",
          "data": {
            "text/plain": [
              "<Figure size 1500x200 with 1 Axes>"
            ],
            "image/png": "[encoded data removed]"
          },
          "metadata": {}
        }
      ]
    },
    {
      "cell_type": "markdown",
      "source": [
        "testing the data"
      ],
      "metadata": {
        "id": "IVgLj9BMHhCX"
      }
    },
    {
      "cell_type": "code",
      "source": [
        "y_pred = model_02.predict(X_test)\n",
        "y_pred[:5]\n",
        "#this is normal distribution values because of soft max"
      ],
      "metadata": {
        "colab": {
          "base_uri": "https://localhost:8080/"
        },
        "id": "FM08xmW0FJ3a",
        "outputId": "4c5d5722-8491-432f-b72f-636c5ffaf441"
      },
      "execution_count": 81,
      "outputs": [
        {
          "output_type": "stream",
          "name": "stdout",
          "text": [
            "313/313 [==============================] - 3s 10ms/step\n"
          ]
        },
        {
          "output_type": "execute_result",
          "data": {
            "text/plain": [
              "array([[7.77575746e-03, 9.00840041e-06, 3.46545801e-02, 7.41370320e-01,\n",
              "        2.02627364e-03, 2.23655496e-02, 1.62138700e-01, 1.21317556e-04,\n",
              "        2.93935779e-02, 1.44883146e-04],\n",
              "       [2.39012390e-03, 9.31829870e-01, 9.19393551e-06, 6.58642311e-05,\n",
              "        2.22014228e-06, 1.71181528e-05, 9.29749076e-05, 3.93175287e-06,\n",
              "        5.45678884e-02, 1.10209612e-02],\n",
              "       [1.85189530e-01, 3.32230516e-02, 1.83263086e-02, 7.37443864e-02,\n",
              "        2.47135404e-02, 2.22119372e-02, 1.14451526e-02, 2.59390809e-02,\n",
              "        5.48673868e-01, 5.65331019e-02],\n",
              "       [8.58061492e-01, 1.78024093e-05, 1.20378934e-01, 3.32063850e-04,\n",
              "        2.79465178e-03, 5.77773380e-06, 3.78611221e-05, 2.58213957e-04,\n",
              "        1.81078594e-02, 5.39783196e-06],\n",
              "       [1.33772101e-05, 2.81566379e-08, 1.88795328e-02, 3.39700840e-03,\n",
              "        4.55890857e-02, 4.34733287e-04, 9.31681335e-01, 4.53770554e-06,\n",
              "        3.19861897e-07, 6.86944901e-08]], dtype=float32)"
            ]
          },
          "metadata": {},
          "execution_count": 81
        }
      ]
    },
    {
      "cell_type": "code",
      "source": [
        "# Converting into standard data\n",
        "# arg max give the index of max element of np\n",
        "\n",
        "y_classes = [np.argmax(element) for element in y_pred]\n",
        "y_classes[:5]"
      ],
      "metadata": {
        "colab": {
          "base_uri": "https://localhost:8080/"
        },
        "id": "_ALSWmhgHpgo",
        "outputId": "da7841c4-0154-41cd-ae58-1cf05318ebba"
      },
      "execution_count": 84,
      "outputs": [
        {
          "output_type": "execute_result",
          "data": {
            "text/plain": [
              "[3, 1, 8, 0, 6]"
            ]
          },
          "metadata": {},
          "execution_count": 84
        }
      ]
    },
    {
      "cell_type": "code",
      "source": [
        "Y_test[:5]"
      ],
      "metadata": {
        "colab": {
          "base_uri": "https://localhost:8080/"
        },
        "id": "EmiSN5IHICA0",
        "outputId": "9a32e59b-2531-4b43-c9ea-8b95c2aaef2f"
      },
      "execution_count": 100,
      "outputs": [
        {
          "output_type": "execute_result",
          "data": {
            "text/plain": [
              "array([3, 8, 8, 0, 6], dtype=uint8)"
            ]
          },
          "metadata": {},
          "execution_count": 100
        }
      ]
    },
    {
      "cell_type": "code",
      "source": [
        "plot_sample(X_test,Y_test,5)"
      ],
      "metadata": {
        "colab": {
          "base_uri": "https://localhost:8080/",
          "height": 237
        },
        "id": "PVOu4_rRI-hN",
        "outputId": "46d46d60-85cd-468a-bf49-b0c3110f1c67"
      },
      "execution_count": 96,
      "outputs": [
        {
          "output_type": "display_data",
          "data": {
            "text/plain": [
              "<Figure size 1500x200 with 1 Axes>"
            ],
            "image/png": "[encoded data removed]"
          },
          "metadata": {}
        }
      ]
    },
    {
      "cell_type": "code",
      "source": [
        "classes[y_classes[5]]"
      ],
      "metadata": {
        "colab": {
          "base_uri": "https://localhost:8080/",
          "height": 35
        },
        "id": "m6f7Wn4rIqci",
        "outputId": "19abecd2-c217-4774-a464-00c56198600b"
      },
      "execution_count": 97,
      "outputs": [
        {
          "output_type": "execute_result",
          "data": {
            "text/plain": [
              "'frog'"
            ],
            "application/vnd.google.colaboratory.intrinsic+json": {
              "type": "string"
            }
          },
          "metadata": {},
          "execution_count": 97
        }
      ]
    },
    {
      "cell_type": "code",
      "source": [
        "from sklearn.metrics import classification_report\n",
        "print(\"Classification Report: \\n\", classification_report(Y_test,y_classes))"
      ],
      "metadata": {
        "colab": {
          "base_uri": "https://localhost:8080/"
        },
        "id": "I7vxNb57I3q2",
        "outputId": "991e1d9c-2c92-49d0-edc7-994b562c0113"
      },
      "execution_count": 99,
      "outputs": [
        {
          "output_type": "stream",
          "name": "stdout",
          "text": [
            "Classification Report: \n",
            "               precision    recall  f1-score   support\n",
            "\n",
            "           0       0.69      0.70      0.69      1000\n",
            "           1       0.87      0.73      0.79      1000\n",
            "           2       0.54      0.56      0.55      1000\n",
            "           3       0.46      0.46      0.46      1000\n",
            "           4       0.55      0.64      0.59      1000\n",
            "           5       0.60      0.48      0.54      1000\n",
            "           6       0.60      0.84      0.70      1000\n",
            "           7       0.77      0.67      0.72      1000\n",
            "           8       0.78      0.69      0.73      1000\n",
            "           9       0.77      0.78      0.77      1000\n",
            "\n",
            "    accuracy                           0.65     10000\n",
            "   macro avg       0.66      0.65      0.65     10000\n",
            "weighted avg       0.66      0.65      0.65     10000\n",
            "\n"
          ]
        }
      ]
    },
    {
      "cell_type": "code",
      "source": [],
      "metadata": {
        "id": "_6PwFgtxJt00"
      },
      "execution_count": null,
      "outputs": []
    }
  ]
}